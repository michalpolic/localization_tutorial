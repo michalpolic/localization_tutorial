{
 "cells": [
  {
   "cell_type": "markdown",
   "id": "c747238c-d19e-4056-a13d-d3552c5d7f00",
   "metadata": {},
   "source": [
    "# 4c) Camera calibration\n",
    "To achieve accurate pose estimation, it's essential to utilize the camera intrinsics. In numerous cases, as the robot navigates through the environment, we gather sufficient data in advance—before the actual localization—to calibrate the camera that captures the query images. "
   ]
  },
  {
   "cell_type": "code",
   "execution_count": 1,
   "id": "56f12db6-8b3e-4ab4-a372-afe1edbffec3",
   "metadata": {},
   "outputs": [],
   "source": [
    "%load_ext autoreload\n",
    "%autoreload 2\n",
    "import random, time\n",
    "import ipywidgets as widgets\n",
    "from IPython.display import display\n",
    "from pathlib import Path\n",
    "from pprint import pformat\n",
    "from hloc.utils.camera_calibrator import calibrate_camera\n",
    "from hloc.visualization import plot_images, read_image\n",
    "from hloc.extract_features import ImageDataset\n",
    "from hloc.utils.downloader import *"
   ]
  },
  {
   "cell_type": "markdown",
   "id": "e25d85f8-ea3e-4b02-a12b-a49cefd7a3f2",
   "metadata": {},
   "source": [
    "## Capture images\n",
    "We will use the OpenCV library to calibrate our camera. For the calibration, we need to capture approximately **10 to 20 images** of the **calibration pattern**. We are going to use a **chessboard printed on A4 paper**. During the hands-on session, I will distribute the patterns to you. If you are running the experiments alone, you can download one from the web page: https://markhedleyjones.com/projects/calibration-checkerboard-collection"
   ]
  },
  {
   "cell_type": "markdown",
   "id": "7b034028-0522-4d3b-907e-55b3b168698b",
   "metadata": {},
   "source": [
    "## Upload images\n",
    "Upload the images using the \"Upload\" button and store it by \"Save Image(s)\". For some memmory reasons the uploading may fail if you upload 2 and more images. For that reason, we may need to upload the images manually by some file manager, e.g., WinSCP. Use 147.32.71.80 IP and port 22, the username and password you get during the hands on session."
   ]
  },
  {
   "cell_type": "code",
   "execution_count": 2,
   "id": "30b110fa-617e-4c4d-95ca-60d3dad3cd7f",
   "metadata": {},
   "outputs": [
    {
     "data": {
      "application/vnd.jupyter.widget-view+json": {
       "model_id": "c581341b2a914531a7ff76a246826d6c",
       "version_major": 2,
       "version_minor": 0
      },
      "text/plain": [
       "FileUpload(value=(), accept='image/*', description='Upload', multiple=True)"
      ]
     },
     "metadata": {},
     "output_type": "display_data"
    },
    {
     "data": {
      "application/vnd.jupyter.widget-view+json": {
       "model_id": "1a0391d822b944c484c08922a749dd33",
       "version_major": 2,
       "version_minor": 0
      },
      "text/plain": [
       "Button(description='Save Image(s)', style=ButtonStyle())"
      ]
     },
     "metadata": {},
     "output_type": "display_data"
    }
   ],
   "source": [
    "images_dir = Path('/data/camera_calibration/images')\n",
    "images_dir.mkdir(exist_ok=True, parents=True)\n",
    "\n",
    "uploader = widgets.FileUpload(\n",
    "    accept='image/*',  # Accept only images\n",
    "    multiple=True  # Allow single file upload\n",
    ")\n",
    "\n",
    "def on_save_button_clicked(change):\n",
    "    save_uploaded_file(uploader.value, images_dir)\n",
    "\n",
    "save_button = widgets.Button(description=\"Save Image(s)\")\n",
    "save_button.on_click(on_save_button_clicked)\n",
    "display(uploader, save_button)"
   ]
  },
  {
   "cell_type": "markdown",
   "id": "0ac55e96-bd86-4da6-b3ab-3ad6e594aa4c",
   "metadata": {},
   "source": [
    "After uploading and saving the images, try to show them, i.e., verify that they are ready camera calibration. "
   ]
  },
  {
   "cell_type": "code",
   "execution_count": 3,
   "id": "a8d76076-f5ab-4324-bd1f-372186943092",
   "metadata": {},
   "outputs": [
    {
     "name": "stderr",
     "output_type": "stream",
     "text": [
      "[2024/02/09 20:08:55 hloc INFO] Found 12 images in root /data/camera_calibration/images.\n"
     ]
    }
   ],
   "source": [
    "images = ImageDataset(images_dir, {\"preprocessing\":None}, None)\n",
    "#plot_images([read_image(images_dir / r) for r in images.names], dpi=25)"
   ]
  },
  {
   "cell_type": "markdown",
   "id": "240b0edb-221d-4b19-b1ad-5a6dc9592973",
   "metadata": {},
   "source": [
    "## OpenCV Calibration\r\n",
    "Once the images are uploaded, we need to set the parameters of the chessboard, i.e., the dimensions of one square in millimeters and the number of rows and columns."
   ]
  },
  {
   "cell_type": "code",
   "execution_count": 4,
   "id": "9bc031b3-ae42-4ebd-8229-84d6459cb3f5",
   "metadata": {},
   "outputs": [],
   "source": [
    "rows = 9  # Number of inner corners per row\n",
    "cols = 13  # Number of inner corners per column\n",
    "square_edge_length = 20.0  # in millimeters"
   ]
  },
  {
   "cell_type": "code",
   "execution_count": 5,
   "id": "e3428415-1737-449c-8d48-92cb0a303b57",
   "metadata": {},
   "outputs": [
    {
     "name": "stdout",
     "output_type": "stream",
     "text": [
      "Reprojection error: \n",
      " 1.8893280571339468\n",
      "\n",
      "Camera matrix: \n",
      " [[3.16732589e+03 0.00000000e+00 2.01257885e+03]\n",
      " [0.00000000e+00 3.16428027e+03 1.14031029e+03]\n",
      " [0.00000000e+00 0.00000000e+00 1.00000000e+00]]\n",
      "\n",
      "Distortion coefficients: \n",
      " [[ 3.01549702e-01 -1.67517904e+00 -2.20461926e-03  5.18173680e-04\n",
      "   2.75569736e+00]]\n"
     ]
    }
   ],
   "source": [
    "result = calibrate_camera(images_dir, rows, cols, square_edge_length)\n",
    "focal_length, principal_point, radial_distortion, (width, height) = result"
   ]
  },
  {
   "cell_type": "code",
   "execution_count": 6,
   "id": "065bbdc3-947f-45b2-96d5-5eddac17d31c",
   "metadata": {},
   "outputs": [
    {
     "name": "stdout",
     "output_type": "stream",
     "text": [
      "OPENCV 2268 4032 3167.3258890959873 3164.280274405117 2012.5788501250047 1140.310288841665 0.30154970189039276 -1.6751790439881133 -0.002204619256931294 0.0005181736795385368\n"
     ]
    }
   ],
   "source": [
    "# OPENCV width height fx, fy, cx, cy, k1, k2, p1, p2\n",
    "print(f\"OPENCV {width} {height} {focal_length[0]} {focal_length[1]} \"+\\\n",
    "     f\"{principal_point[0]} {principal_point[1]} {radial_distortion[0][0]} \"+\\\n",
    "     f\"{radial_distortion[0][1]} {radial_distortion[0][2]} {radial_distortion[0][3]}\")"
   ]
  }
 ],
 "metadata": {
  "kernelspec": {
   "display_name": "Python 3 (ipykernel)",
   "language": "python",
   "name": "python3"
  },
  "language_info": {
   "codemirror_mode": {
    "name": "ipython",
    "version": 3
   },
   "file_extension": ".py",
   "mimetype": "text/x-python",
   "name": "python",
   "nbconvert_exporter": "python",
   "pygments_lexer": "ipython3",
   "version": "3.8.18"
  }
 },
 "nbformat": 4,
 "nbformat_minor": 5
}
